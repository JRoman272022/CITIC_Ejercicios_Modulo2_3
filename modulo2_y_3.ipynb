{
  "nbformat": 4,
  "nbformat_minor": 0,
  "metadata": {
    "colab": {
      "provenance": [],
      "name": "modulo2 y 3.ipynb",
      "authorship_tag": "ABX9TyP4aRxt3dlHjL4mjwci0JU/",
      "include_colab_link": true
    },
    "kernelspec": {
      "name": "python3",
      "display_name": "Python 3"
    },
    "language_info": {
      "name": "python"
    }
  },
  "cells": [
    {
      "cell_type": "markdown",
      "metadata": {
        "id": "view-in-github",
        "colab_type": "text"
      },
      "source": [
        "<a href=\"https://colab.research.google.com/github/JRoman272022/CITIC_Ejercicios_Modulo2_3/blob/main/modulo2_y_3.ipynb\" target=\"_parent\"><img src=\"https://colab.research.google.com/assets/colab-badge.svg\" alt=\"Open In Colab\"/></a>"
      ]
    },
    {
      "cell_type": "markdown",
      "source": [
        "# Modulo 2 Estructuras Selectivas y Repetitivas\n",
        "Ejercicio 1\n",
        "Imagina que un extraterrestre acaba de ser derribado en un juego. Cree una variable llamada alien_color y asígnele un valor de 'verde', 'amarillo' o 'rojo'.\n",
        "Escribe una declaración if para probar si el color del extraterrestre es verde. Si es así, imprime un mensaje de que el jugador acaba de ganar 5 puntos.\n"
      ],
      "metadata": {
        "id": "JO2XyX4VnhKM"
      }
    },
    {
      "cell_type": "code",
      "source": [
        "#Segun el ejercicio, solo se introduce \"verde\"\n",
        "alien_color=input('color es el extraterreste \"verde, amarillo o rojo\":')\n",
        "alien_color=alien_color.lower()\n",
        "if alien_color==\"verde\":\n",
        "  print(f'El color del alien es {alien_color}, usted ganó 5 puntos')"
      ],
      "metadata": {
        "colab": {
          "base_uri": "https://localhost:8080/"
        },
        "id": "m-7cWymwn7F9",
        "outputId": "98d78853-426c-4c80-a2a3-dfe18e40b7a2"
      },
      "execution_count": null,
      "outputs": [
        {
          "output_type": "stream",
          "name": "stdout",
          "text": [
            "color es el extraterreste \"verde, amarillo o rojo\":verde\n",
            "El color del alien es verde, usted ganó 5 puntos\n"
          ]
        }
      ]
    },
    {
      "cell_type": "markdown",
      "source": [
        "Elija un color para un extraterrestre como lo hizo en el Ejercicio anterior y escriba una cadena if-else.\n",
        "Si el alienígena es verde, imprime un mensaje de que el jugador obtuvo 5 puntos. Si el alienígena es amarillo, imprime un mensaje de que el jugador obtuvo 10 puntos. Si el alienígena es rojo, imprime un mensaje de que el jugador obtuvo 15 puntos.\n"
      ],
      "metadata": {
        "id": "6wW5OdrloEF7"
      }
    },
    {
      "cell_type": "code",
      "source": [
        "alien_color=input('color es el extraterreste \"verde, amarillo o rojo\":')\n",
        "alien_color=alien_color.lower()\n",
        "if alien_color==\"verde\":\n",
        "  print(f'El color del alien es {alien_color}, usted ganó 5 puntos')\n",
        "if alien_color==\"amarillo\":\n",
        "  print(f'El color del alien es {alien_color}, usted ganó 10 puntos')\n",
        "if alien_color==\"rojo\":\n",
        "  print(f'El color del alien es {alien_color}, usted ganó 15 puntos')"
      ],
      "metadata": {
        "colab": {
          "base_uri": "https://localhost:8080/"
        },
        "id": "lxkCxR-poBHZ",
        "outputId": "9bd970a4-8f6f-4c1b-cc57-d65008e77e16"
      },
      "execution_count": null,
      "outputs": [
        {
          "output_type": "stream",
          "name": "stdout",
          "text": [
            "color es el extraterreste \"verde, amarillo o rojo\":rojo\n",
            "El color del alien es rojo, usted ganó 15 puntos\n"
          ]
        }
      ]
    },
    {
      "cell_type": "markdown",
      "source": [
        "WHILE\n",
        "\n",
        "Ejercicio 1\n",
        "Escriba un ciclo que solicite al usuario que ingrese una serie de ingredientes para la pizza hasta que ingrese un valor de 'salir'. A medida que ingresen cada ingrediente, imprima un mensaje que diga que agregará ese ingrediente a su pizza.\n"
      ],
      "metadata": {
        "id": "3MKOZk9CoZNy"
      }
    },
    {
      "cell_type": "code",
      "source": [
        "while True:\n",
        "  ingredientes=input('Ingrese ingrediente o escriba \"Salir\" para terminar proceso: ')\n",
        "  if ingredientes.lower()==\"salir\":\n",
        "    break\n",
        "  else:\n",
        "    print(f'Un ingrediente para la piza es: {ingredientes}')"
      ],
      "metadata": {
        "colab": {
          "base_uri": "https://localhost:8080/"
        },
        "id": "eJDhCgfDoXJN",
        "outputId": "9e50fc0e-2fe5-4fcd-9606-57b82b061849"
      },
      "execution_count": null,
      "outputs": [
        {
          "name": "stdout",
          "output_type": "stream",
          "text": [
            "Ingrese ingrediente o escriba \"Salir\" para terminar proceso: sal\n",
            "Un ingrediente para la piza es: sal\n",
            "Ingrese ingrediente o escriba \"Salir\" para terminar proceso: masa\n",
            "Un ingrediente para la piza es: masa\n",
            "Ingrese ingrediente o escriba \"Salir\" para terminar proceso: agua\n",
            "Un ingrediente para la piza es: agua\n",
            "Ingrese ingrediente o escriba \"Salir\" para terminar proceso: Salir\n"
          ]
        }
      ]
    },
    {
      "cell_type": "markdown",
      "source": [
        "Ejercicio 2\n",
        "\n",
        "Un cine cobra diferentes precios de boletos dependiendo de la edad de una persona. Si una persona es menor de 3 años, la entrada es gratuita; si son entre 3 y 12, el boleto cuesta s/. 10; y si son mayores de 12 años, el boleto cuesta s/. 15. Escriba un ciclo en el que pregunte a los usuarios su edad y luego dígales el costo de su boleto de cine.\n"
      ],
      "metadata": {
        "id": "r7BYrBJfovy0"
      }
    },
    {
      "cell_type": "code",
      "source": [
        "while True:\n",
        "  edad=input('Edad de la persona (Escriba \"Salir\" para terminar proceso): ')\n",
        "  if str(edad).lower()==\"salir\":\n",
        "    print(\"Se termino el proceso\")\n",
        "    break\n",
        "  edad1=int(edad) \n",
        "  if edad1 > 0 and edad1 < 3:\n",
        "    print(f'La persona tiene {edad} de edad, la entrada es gratuita')\n",
        "  if edad1 >=3 and edad1<=12:\n",
        "    print(f'La persona tiene {edad} de edad, la entrada es de s/. 10')\n",
        "  if edad1 >12:\n",
        "    print(f'La persona tiene {edad} de edad, la entrada es de s/. 12')"
      ],
      "metadata": {
        "colab": {
          "base_uri": "https://localhost:8080/"
        },
        "id": "yiOri3AVooxK",
        "outputId": "ac278ac3-834b-48ca-ca61-2b06bd34ef09"
      },
      "execution_count": null,
      "outputs": [
        {
          "output_type": "stream",
          "name": "stdout",
          "text": [
            "Edad de la persona (Escriba \"Salir\" para terminar proceso): 1\n",
            "La persona tiene 1 de edad, la entrada es gratuita\n",
            "Edad de la persona (Escriba \"Salir\" para terminar proceso): 3\n",
            "La persona tiene 3 de edad, la entrada es de s/. 10\n",
            "Edad de la persona (Escriba \"Salir\" para terminar proceso): 11\n",
            "La persona tiene 11 de edad, la entrada es de s/. 10\n",
            "Edad de la persona (Escriba \"Salir\" para terminar proceso): 12\n",
            "La persona tiene 12 de edad, la entrada es de s/. 10\n",
            "Edad de la persona (Escriba \"Salir\" para terminar proceso): 13\n",
            "La persona tiene 13 de edad, la entrada es de s/. 12\n",
            "Edad de la persona (Escriba \"Salir\" para terminar proceso): salir\n",
            "Se termino el proceso\n"
          ]
        }
      ]
    },
    {
      "cell_type": "markdown",
      "source": [
        "Ejercicio 1\n",
        "\n",
        "Piensa en al menos tres tipos de tu pizza favorita. Almacene estos nombres de pizza en una lista y luego use un ciclo for para imprimir el nombre de cada pizza.\n",
        "Modifique su ciclo for para imprimir una oración usando el nombre de la pizza en lugar de imprimir solo el nombre de la pizza. Para cada pizza, debe tener una línea de salida que contenga una declaración simple como Me gusta la pizza de pepperoni. Agregue una línea al final de su programa, fuera del bucle for, que indique cuánto le gusta la pizza. El resultado debe constar de tres o más líneas sobre los tipos de pizza que te gustan y luego una oración adicional, como ¡Me encanta la pizza!\n"
      ],
      "metadata": {
        "id": "m6SSzi2XpH2S"
      }
    },
    {
      "cell_type": "code",
      "source": [
        "pizza_a=input('ingrese el nombre favorito de tu pizza: ')\n",
        "pizza_b=input('ingrese el nombre favorito de tu pizza: ')\n",
        "pizza_c=input('ingrese el nombre favorito de tu pizza: ')\n",
        "pizza=[pizza_a.lower(), pizza_b.lower(), pizza_c.lower()]\n",
        "for pizza in pizza:\n",
        "  print(f'\\nEn dias festivos me gusta la pizza {pizza}.')\n",
        "print('\\nQue rica es la pizza¡¡')"
      ],
      "metadata": {
        "colab": {
          "base_uri": "https://localhost:8080/"
        },
        "id": "n_5veitypBjT",
        "outputId": "21173479-6aed-4744-b5dd-2bf34fb8b481"
      },
      "execution_count": null,
      "outputs": [
        {
          "output_type": "stream",
          "name": "stdout",
          "text": [
            "ingrese el nombre favorito de tu pizza: hauayana\n",
            "ingrese el nombre favorito de tu pizza: napolitana\n",
            "ingrese el nombre favorito de tu pizza: americana\n",
            "\n",
            "En dias festivos me gusta la pizza hauayana.\n",
            "\n",
            "En dias festivos me gusta la pizza napolitana.\n",
            "\n",
            "En dias festivos me gusta la pizza americana.\n",
            "\n",
            "Que rica es la pizza¡¡\n"
          ]
        }
      ]
    },
    {
      "cell_type": "markdown",
      "source": [
        "Ejercicio 2\n",
        "\n",
        "Piensa en al menos tres animales diferentes que tengan una característica común. Guarde los nombres de estos animales en una lista y luego use un ciclo for para imprimir el nombre de cada animal.\n",
        "Modifique su programa para imprimir una declaración sobre cada animal, como Un perro sería una gran mascota. Agregue una línea al final de su programa indicando lo que estos animales tienen en común. Podría escribir una oración como ¡Cualquiera de estos animales sería una gran mascota!\n"
      ],
      "metadata": {
        "id": "ossA0iJOpeVK"
      }
    },
    {
      "cell_type": "code",
      "source": [
        "animal_a=input('Ingrese la mascota que mas te guste: ')\n",
        "animal_b=input('Ingrese la mascota que mas te guste: ')\n",
        "animal_c=input('Ingrese la mascota que mas te guste: ')\n",
        "animal=[animal_a.lower(), animal_b.lower(), animal_c.lower()]\n",
        "for animal in animal:\n",
        "  print(f'\\nUn {animal} sería una grán mascota.')\n",
        "print(f'\\nCualquiera de estos animales serian felices de ser adoptador')"
      ],
      "metadata": {
        "colab": {
          "base_uri": "https://localhost:8080/"
        },
        "id": "vv-jniEipYm0",
        "outputId": "893f9988-144f-48e3-b808-0b85ec294824"
      },
      "execution_count": null,
      "outputs": [
        {
          "output_type": "stream",
          "name": "stdout",
          "text": [
            "Ingrese la mascota que mas te guste: perro\n",
            "Ingrese la mascota que mas te guste: gato\n",
            "Ingrese la mascota que mas te guste: ganzo\n",
            "\n",
            "Un perro sería una grán mascota.\n",
            "\n",
            "Un gato sería una grán mascota.\n",
            "\n",
            "Un ganzo sería una grán mascota.\n",
            "\n",
            "Cualquiera de estos animales serian felices de ser adoptador\n"
          ]
        }
      ]
    },
    {
      "cell_type": "markdown",
      "source": [
        "# Modulo 3 (Funciones)\n",
        "Ejercicio 2\n",
        "\n",
        "Escriba una función llamada make_album() que cree un diccionario que describa un álbum de música. La función debe tomar el nombre de un artista y el título de un álbum, y debe devolver un diccionario que contenga estos dos datos. Utilice la función para crear tres diccionarios que representen diferentes álbumes. Imprima cada valor devuelto para mostrar que los diccionarios están almacenando la información del álbum correctamente.\n",
        "Use None para agregar un parámetro opcional a make_album() que le permita almacenar la cantidad de canciones en un álbum. Si la línea de llamada incluye un valor para la cantidad de canciones, agregue ese valor al diccionario del álbum. Realice al menos una nueva llamada de función que incluya la cantidad de canciones en un álbum.\n"
      ],
      "metadata": {
        "id": "H4iWXHjbqTgK"
      }
    },
    {
      "cell_type": "code",
      "source": [
        "def make_album(Nombre_artista,Titulo_album,numero_album=None):\n",
        "  album_musica = {'Nombre de artista': Nombre_artista, 'Título de album': Titulo_album}\n",
        "  if numero_album:\n",
        "    album_musica['numero_album'] = numero_album\n",
        "  return album_musica\n",
        "first = make_album('Joel','Shasam',30)\n",
        "second = make_album('Julio','RPF',20)\n",
        "thirth = make_album('Daniel','LOL',10)\n",
        "print(f\"{first}\\n{second}\\n{thirth}\")"
      ],
      "metadata": {
        "colab": {
          "base_uri": "https://localhost:8080/"
        },
        "id": "aVLEVWHOqHyk",
        "outputId": "a4032b77-261e-40d1-b2f6-9abe2762780e"
      },
      "execution_count": null,
      "outputs": [
        {
          "output_type": "stream",
          "name": "stdout",
          "text": [
            "{'Nombre de artista': 'Joel', 'Título de album': 'Shasam', 'numero_album': 30}\n",
            "{'Nombre de artista': 'Julio', 'Título de album': 'RPF', 'numero_album': 20}\n",
            "{'Nombre de artista': 'Daniel', 'Título de album': 'LOL', 'numero_album': 10}\n"
          ]
        }
      ]
    },
    {
      "cell_type": "markdown",
      "source": [
        "Ejercicio 3\n",
        "\n",
        "Comience con su programa del ejercicio anterior. Escriba un ciclo while que permita a los usuarios ingresar el artista y el título de un álbum. Una vez que tenga esa información, llame a make_album() con la entrada del usuario e imprima el diccionario que se crea. Asegúrese de incluir un valor de salida en el ciclo while.\n"
      ],
      "metadata": {
        "id": "UG-ZUoMMqkDb"
      }
    },
    {
      "cell_type": "code",
      "source": [
        "def make_album(Nombre_artista,Titulo_album,numero_album=None):\n",
        "  album_musica = {'Nombre de artista': Nombre_artista, 'Título de album': Titulo_album}\n",
        "  if numero_album:\n",
        "    album_musica['numero_album'] = numero_album\n",
        "  return album_musica\n",
        "while True:\n",
        "  nom=input('(Escriba \"Exit\" para terminar) Ingrese nombre de artista: ')\n",
        "  if nom==\"Exit\":\n",
        "    break\n",
        "  alb=input('(Escriba \"Exit\" para terminar) Ingrese nombre de album: ')\n",
        "  if alb==\"Exit\":\n",
        "    break\n",
        "  cant=input('(Escriba \"Exit\" para terminar) Ingrese numero de albunes: ')\n",
        "  if cant==\"Exit\":\n",
        "    break\n",
        "  dic=make_album(nom, alb, cant)\n",
        "  print(dic)"
      ],
      "metadata": {
        "colab": {
          "base_uri": "https://localhost:8080/"
        },
        "id": "YmYADWO7qaYF",
        "outputId": "2b620c93-2c9f-46b6-c3a4-431e8f1b2a3a"
      },
      "execution_count": null,
      "outputs": [
        {
          "name": "stdout",
          "output_type": "stream",
          "text": [
            "(Escriba \"Exit\" para terminar) Ingrese nombre de artista: Chayane\n",
            "(Escriba \"Exit\" para terminar) Ingrese nombre de album: Torero\n",
            "(Escriba \"Exit\" para terminar) Ingrese numero de albunes: 5\n",
            "{'Nombre de artista': 'Chayane', 'Título de album': 'Torero', 'numero_album': '5'}\n",
            "(Escriba \"Exit\" para terminar) Ingrese nombre de artista: Kjantu\n",
            "(Escriba \"Exit\" para terminar) Ingrese nombre de album: Cielo\n",
            "(Escriba \"Exit\" para terminar) Ingrese numero de albunes: 10\n",
            "{'Nombre de artista': 'Kjantu', 'Título de album': 'Cielo', 'numero_album': '10'}\n",
            "(Escriba \"Exit\" para terminar) Ingrese nombre de artista: Exit\n"
          ]
        }
      ]
    },
    {
      "cell_type": "markdown",
      "source": [
        "Ejercicio 2\n",
        "\n",
        "Comience con una copia de su programa del Ejercicio anterior. Escriba una función llamada send_messages() que imprima cada mensaje de texto y mueva cada mensaje a una nueva lista llamada sent_messages a medida que se imprime. Después de llamar a la función, imprima ambas listas para asegurarse de que los mensajes se movieron correctamente.\n"
      ],
      "metadata": {
        "id": "UrzVj8ihrkKD"
      }
    },
    {
      "cell_type": "code",
      "source": [
        "def send_messages(messages):\n",
        "  send_messages=[]\n",
        "  for palabra in messages:\n",
        "    print(f'\\n{palabra}')\n",
        "    send_messages.append(palabra)\n",
        "  print('\\nLos valores almacenados son: ')\n",
        "  for almacenado in send_messages:\n",
        "    print(f'\\n - {almacenado}')\n",
        "send_messages(['texto 1', 'texto 2', 'texto 3'])"
      ],
      "metadata": {
        "colab": {
          "base_uri": "https://localhost:8080/"
        },
        "id": "kq1GXtBWrLYe",
        "outputId": "b9982f84-3d8b-48f9-d0f8-ddfd2e227921"
      },
      "execution_count": null,
      "outputs": [
        {
          "output_type": "stream",
          "name": "stdout",
          "text": [
            "\n",
            "texto 1\n",
            "\n",
            "texto 2\n",
            "\n",
            "texto 3\n",
            "\n",
            "Los valores almacenados son: \n",
            "\n",
            " - texto 1\n",
            "\n",
            " - texto 2\n",
            "\n",
            " - texto 3\n"
          ]
        }
      ]
    },
    {
      "cell_type": "markdown",
      "source": [
        "Ejercicio 3\n",
        "\n",
        "Comience con su trabajo del Ejercicio anterior. Llame a la función send_messages() con una copia de la lista de mensajes. Después de llamar a la función, imprima ambas listas para mostrar que la lista original ha conservado sus mensajes.\n"
      ],
      "metadata": {
        "id": "CVT2KGg8rss7"
      }
    },
    {
      "cell_type": "code",
      "source": [
        "def send_messages(messages):\n",
        "  send_messages=[]\n",
        "  for palabra in messages:\n",
        "    print(f'\\n{palabra}')\n",
        "    send_messages.append(palabra)\n",
        "  print('\\nLos valores almacenados son: ')\n",
        "  for almacenado in send_messages:\n",
        "    print(f'\\n - {almacenado}')\n",
        "  return messages\n",
        "mensaje1 = send_messages(['texto 1', 'texto 2', 'texto 3'])\n",
        "print('\\nEl mensaje  original es: ')\n",
        "for mensaje in mensaje1:\n",
        "  print(mensaje)"
      ],
      "metadata": {
        "colab": {
          "base_uri": "https://localhost:8080/"
        },
        "id": "C0VS-LGGrpRG",
        "outputId": "ce680f13-7d37-45e2-971b-c51864036dbc"
      },
      "execution_count": null,
      "outputs": [
        {
          "output_type": "stream",
          "name": "stdout",
          "text": [
            "\n",
            "texto 1\n",
            "\n",
            "texto 2\n",
            "\n",
            "texto 3\n",
            "\n",
            "Los valores almacenados son: \n",
            "\n",
            " - texto 1\n",
            "\n",
            " - texto 2\n",
            "\n",
            " - texto 3\n",
            "\n",
            "El mensaje  original es: \n",
            "texto 1\n",
            "texto 2\n",
            "texto 3\n"
          ]
        }
      ]
    },
    {
      "cell_type": "markdown",
      "source": [
        "Ejercicio 2\n",
        "\n",
        "Comience con una copia de user_profile de Uso de argumentos de palabras clave arbitrarias. Cree un perfil de usted mismo llamando a build_profile(), usando su nombre y apellido y otros tres pares clave-valor que lo describan.\n"
      ],
      "metadata": {
        "id": "T1NX23TVr0AN"
      }
    },
    {
      "cell_type": "code",
      "source": [
        "def build_profile(first, last, **user_info):\n",
        "    \"\"\"Build a dictionary containing everything we know about a user.\"\"\"\n",
        "    user_info['first_name'] = first\n",
        "    user_info['last_name'] = last\n",
        "    return user_info\n",
        "\n",
        "user_profile = build_profile('Joel', 'Roman',\n",
        "                             location='Peru',\n",
        "                             field='Ing. mecánica',\n",
        "                             age=27,\n",
        "                             color='negro y blanco')\n",
        "print(user_profile)"
      ],
      "metadata": {
        "colab": {
          "base_uri": "https://localhost:8080/"
        },
        "id": "MT4A3b3wrv7P",
        "outputId": "9b0a90aa-81be-4e18-d75e-c24df31e19be"
      },
      "execution_count": null,
      "outputs": [
        {
          "output_type": "stream",
          "name": "stdout",
          "text": [
            "{'location': 'Peru', 'field': 'Ing. mecánica', 'age': 27, 'color': 'negro y blanco', 'first_name': 'Joel', 'last_name': 'Roman'}\n"
          ]
        }
      ]
    },
    {
      "cell_type": "markdown",
      "source": [
        "Ejercicio 3\n",
        "\n",
        "Escribe una función que almacene información sobre un automóvil en un diccionario. La función siempre debe recibir un fabricante y un nombre de modelo. Entonces debería aceptar un número arbitrario de argumentos de palabras clave. Llame a la función con la información requerida y otros dos pares de nombre y valor, como un color o una función opcional. Su función debería funcionar para una llamada como esta:\n",
        "coche = make_car('subaru', 'outback', color='blue', tow_package=True)\n",
        "Imprima el diccionario que se devuelve para asegurarse de que toda la información se almacenó correctamente.\n"
      ],
      "metadata": {
        "id": "3TeG30EFr_WK"
      }
    },
    {
      "cell_type": "code",
      "source": [
        "def make_car(fabricante, modelo, **info_car):\n",
        "    \"\"\"Build a dictionary containing everything we know about a user.\"\"\"\n",
        "    info_car['Fabricante'] = fabricante\n",
        "    info_car['Modelo'] = modelo\n",
        "    return info_car\n",
        "\n",
        "coche = make_car('Toyota', 'Tercel',\n",
        "                 color='Rojo',\n",
        "                 funcion='Transporte personal')\n",
        "print(coche)"
      ],
      "metadata": {
        "colab": {
          "base_uri": "https://localhost:8080/"
        },
        "id": "_aZZDfAdr67a",
        "outputId": "80e121ff-a715-46c3-a780-44c3a7765265"
      },
      "execution_count": null,
      "outputs": [
        {
          "output_type": "stream",
          "name": "stdout",
          "text": [
            "{'color': 'Rojo', 'funcion': 'Transporte personal', 'Fabricante': 'Toyota', 'Modelo': 'Tercel'}\n"
          ]
        }
      ]
    },
    {
      "cell_type": "markdown",
      "source": [
        "Ejercicio 3\n",
        "\n",
        "Haz una clase llamada Usuario. Cree dos atributos llamados first_name y last_name, y luego cree varios otros atributos que normalmente se almacenan en un perfil de usuario. Cree un método llamado describe_user() que imprima un resumen de la información del usuario. Cree otro método llamado greeting_user() que imprima un saludo personalizado para el usuario.\n",
        "Cree varias instancias que representen a diferentes usuarios y llame a ambos métodos para cada usuario.\n"
      ],
      "metadata": {
        "id": "oyVA4AN4sJRE"
      }
    },
    {
      "cell_type": "code",
      "source": [
        "class Usuario:\n",
        "    def __init__(self, first_name, last_name, ID_name, password, e_mail):\n",
        "        \"\"\"Initialize name and age attributes.\"\"\"\n",
        "        self.first_name = first_name\n",
        "        self.last_name = last_name\n",
        "        self.ID_name = ID_name\n",
        "        self.password = password\n",
        "        self.e_mail = e_mail\n",
        "\n",
        "    def greeting_user(self):\n",
        "        print(f'\\nEl nombre del usuario es:{self.first_name} {self.last_name}, \\nEl nick name de su cuenta es: {self.ID_name}\\nEl correo asociado a esta cuenta es: {self.e_mail}')\n",
        "\n",
        "    def olvide_clave(self):\n",
        "        print(f'\\nSe envió la clave de su cuenta al siguiente correo:{self.e_mail}')\n",
        "        print(f'\\n-------------------------------\\nCorreo: \\n De: Python: \\n Para: {self.e_mail} \\n Su contraseña es: {self.password}\\n-------------------------------')\n",
        "\n",
        "primera_cuenta=Usuario('Joel','Roman','K1','International','jrvolt11@gmail.com')\n",
        "segunda_cuenta=Usuario('Luis', 'Orosco', 'Cachimbo', 'CTIC','Lorosco@uni.pe')\n",
        "tercera_cuenta=Usuario('Danielala', 'Garcia', 'Bashi', 'Trinidad', 'Elazo@gmail.com')\n",
        "print(primera_cuenta.first_name)\n",
        "print(segunda_cuenta.last_name)\n",
        "print(tercera_cuenta.ID_name)\n",
        "print(primera_cuenta.password)\n",
        "print(segunda_cuenta.e_mail)\n",
        "primera_cuenta.greeting_user()\n",
        "primera_cuenta.olvide_clave()\n",
        "segunda_cuenta.greeting_user()\n",
        "segunda_cuenta.olvide_clave()\n",
        "tercera_cuenta.greeting_user()\n",
        "tercera_cuenta.olvide_clave()"
      ],
      "metadata": {
        "colab": {
          "base_uri": "https://localhost:8080/"
        },
        "id": "cssizsozsDKQ",
        "outputId": "05e9eb42-e579-4411-9a02-b4cd6294337c"
      },
      "execution_count": null,
      "outputs": [
        {
          "output_type": "stream",
          "name": "stdout",
          "text": [
            "Joel\n",
            "Orosco\n",
            "Bashi\n",
            "International\n",
            "Lorosco@uni.pe\n",
            "\n",
            "El nombre del usuario es:Joel Roman, \n",
            "El nick name de su cuenta es: K1\n",
            "El correo asociado a esta cuenta es: jrvolt11@gmail.com\n",
            "\n",
            "Se envió la clave de su cuenta al siguiente correo:jrvolt11@gmail.com\n",
            "\n",
            "-------------------------------\n",
            "Correo: \n",
            " De: Python: \n",
            " Para: jrvolt11@gmail.com \n",
            " Su contraseña es: International\n",
            "-------------------------------\n",
            "\n",
            "El nombre del usuario es:Luis Orosco, \n",
            "El nick name de su cuenta es: Cachimbo\n",
            "El correo asociado a esta cuenta es: Lorosco@uni.pe\n",
            "\n",
            "Se envió la clave de su cuenta al siguiente correo:Lorosco@uni.pe\n",
            "\n",
            "-------------------------------\n",
            "Correo: \n",
            " De: Python: \n",
            " Para: Lorosco@uni.pe \n",
            " Su contraseña es: CTIC\n",
            "-------------------------------\n",
            "\n",
            "El nombre del usuario es:Danielala Garcia, \n",
            "El nick name de su cuenta es: Bashi\n",
            "El correo asociado a esta cuenta es: Elazo@gmail.com\n",
            "\n",
            "Se envió la clave de su cuenta al siguiente correo:Elazo@gmail.com\n",
            "\n",
            "-------------------------------\n",
            "Correo: \n",
            " De: Python: \n",
            " Para: Elazo@gmail.com \n",
            " Su contraseña es: Trinidad\n",
            "-------------------------------\n"
          ]
        }
      ]
    }
  ]
}